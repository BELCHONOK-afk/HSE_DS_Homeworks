{
  "nbformat": 4,
  "nbformat_minor": 0,
  "metadata": {
    "colab": {
      "provenance": []
    },
    "kernelspec": {
      "name": "python3",
      "display_name": "Python 3"
    },
    "language_info": {
      "name": "python"
    }
  },
  "cells": [
    {
      "cell_type": "markdown",
      "source": [
        "# Домашнее задание: декораторы"
      ],
      "metadata": {
        "id": "QY4qPJPpgyIS"
      }
    },
    {
      "cell_type": "markdown",
      "source": [
        "## Импорт библиотек, установка констант"
      ],
      "metadata": {
        "id": "Chacc6YchldZ"
      }
    },
    {
      "cell_type": "code",
      "source": [
        "import requests\n",
        "import time\n",
        "import re\n",
        "from functools import wraps\n",
        "from random import randint"
      ],
      "metadata": {
        "id": "w8iKrWvwhrFd"
      },
      "execution_count": 32,
      "outputs": []
    },
    {
      "cell_type": "code",
      "source": [
        "BOOK_PATH = 'https://www.gutenberg.org/files/2638/2638-0.txt'"
      ],
      "metadata": {
        "id": "-LRkS0fSi8Np"
      },
      "execution_count": 2,
      "outputs": []
    },
    {
      "cell_type": "markdown",
      "source": [
        "## Задание 1"
      ],
      "metadata": {
        "id": "kARfL8ifg4MH"
      }
    },
    {
      "cell_type": "code",
      "execution_count": 82,
      "metadata": {
        "id": "hNHNWPhngrUl"
      },
      "outputs": [],
      "source": [
        "def benchmark(func):\n",
        "    \"\"\"\n",
        "    Декоратор, выводящий время, которое заняло выполнение декорируемой функции\n",
        "    \"\"\"\n",
        "    @wraps(func)\n",
        "    def wrapper(*args, **kwargs):\n",
        "        start = time.perf_counter()\n",
        "        result = func(*args, **kwargs)\n",
        "        end = time.perf_counter()\n",
        "        print(f'Время выполнения функции {func.__name__}: {end - start:.6f}')\n",
        "        return result\n",
        "\n",
        "    return wrapper"
      ]
    },
    {
      "cell_type": "markdown",
      "source": [
        "## Задание 2"
      ],
      "metadata": {
        "id": "tGlbUKjihL5n"
      }
    },
    {
      "cell_type": "code",
      "source": [
        "def logging(func):\n",
        "\n",
        "  \"\"\"\n",
        "Декоратор, который выводит параметры с которыми была вызвана функция\n",
        "  \"\"\"\n",
        "  @wraps(func)\n",
        "  def wrapper(*args, **kwargs):\n",
        "    result = func(*args, **kwargs)\n",
        "    arg_str = ', '.join(repr(arg) for arg in args)\n",
        "    kwarg_str = ', '.join(repr(kwarg) for kwarg in kwargs)\n",
        "    print(f'Функция была вызывна с параметрами: \\n ({arg_str}), ({kwarg_str})')\n",
        "    return result\n",
        "\n",
        "  return wrapper"
      ],
      "metadata": {
        "id": "wugOZDLqhNe-"
      },
      "execution_count": 88,
      "outputs": []
    },
    {
      "cell_type": "markdown",
      "source": [
        "## Задание 3"
      ],
      "metadata": {
        "id": "Sq1tv5fshTfv"
      }
    },
    {
      "cell_type": "code",
      "source": [
        "def counter(func):\n",
        "    \"\"\"\n",
        "    Декоратор, считающий и выводящий количество вызовов декорируемой функции\n",
        "    \"\"\"\n",
        "    counter = 0\n",
        "    @wraps(func)\n",
        "    def wrapper(*args, **kwargs):\n",
        "      nonlocal counter\n",
        "      counter+=1\n",
        "      result = func(*args, **kwargs)\n",
        "      if counter%10 in [0,1,5,6,7,8,9]:\n",
        "        print(f'Функция была вызвана: {counter} раз')\n",
        "      else:\n",
        "        print(f'Функция была вызвана: {counter} раза')\n",
        "      return result\n",
        "\n",
        "    return wrapper"
      ],
      "metadata": {
        "id": "9nyvuxXkhVeb"
      },
      "execution_count": 109,
      "outputs": []
    },
    {
      "cell_type": "markdown",
      "source": [
        "## Задание 4"
      ],
      "metadata": {
        "id": "uHn8Adfshz5q"
      }
    },
    {
      "cell_type": "code",
      "source": [
        "def memo(func):\n",
        "    \"\"\"\n",
        "    Декоратор, запоминающий результаты исполнения функции func, чьи аргументы args должны быть хешируемыми\n",
        "    \"\"\"\n",
        "    @wraps(func)\n",
        "    def fmemo(*args):\n",
        "        if args in fmemo.cache:  # Проверяем, есть ли результат в кэше\n",
        "            return fmemo.cache[args]  # Возвращаем результат из кэша\n",
        "        else:\n",
        "            result = func(*args)  # Вызываем функцию, если результат не найден\n",
        "            fmemo.cache[args] = result  # Сохраняем результат в кэше\n",
        "            return result\n",
        "\n",
        "    fmemo.cache = {}  # Создаем пустой кэш для каждой обертки\n",
        "    return fmemo\n"
      ],
      "metadata": {
        "id": "R7uu6WtGifNX"
      },
      "execution_count": 120,
      "outputs": []
    },
    {
      "cell_type": "markdown",
      "source": [
        "## Тестирование"
      ],
      "metadata": {
        "id": "Zn5UQCa_izxo"
      }
    },
    {
      "cell_type": "code",
      "source": [
        "@counter\n",
        "@logging\n",
        "@benchmark\n",
        "def word_count(word, url=BOOK_PATH):\n",
        "    \"\"\"\n",
        "    Функция для посчета указанного слова на html-странице\n",
        "    \"\"\"\n",
        "\n",
        "    # отправляем запрос в библиотеку Gutenberg и забираем текст\n",
        "    raw = requests.get(url).text\n",
        "\n",
        "    # заменяем в тексте все небуквенные символы на пробелы\n",
        "    processed_book = re.sub('[\\W]+' , ' ', raw).lower()\n",
        "\n",
        "    # считаем\n",
        "    cnt = len(re.findall(word.lower(), processed_book))\n",
        "\n",
        "    return f\"Cлово {word} встречается {cnt} раз\"\n",
        "\n",
        "print(word_count('whole'))"
      ],
      "metadata": {
        "id": "CHCJ64I8i2QB",
        "colab": {
          "base_uri": "https://localhost:8080/"
        },
        "outputId": "eb5aedc8-f73c-4b5b-c6fb-111a61efaf67"
      },
      "execution_count": 110,
      "outputs": [
        {
          "output_type": "stream",
          "name": "stdout",
          "text": [
            "Время выполнения функции word_count: 0.559987\n",
            "Функция была вызывна с параметрами: \n",
            " ('whole'), ()\n",
            "Функция была вызвана: 1 раз\n",
            "Cлово whole встречается 176 раз\n"
          ]
        }
      ]
    },
    {
      "cell_type": "code",
      "source": [
        "def fib(n):\n",
        "    if n < 2:\n",
        "        return n\n",
        "    return fib(n-2) + fib(n-1)"
      ],
      "metadata": {
        "id": "ZE4Rfn-hh3k3"
      },
      "execution_count": 122,
      "outputs": []
    },
    {
      "cell_type": "code",
      "source": [
        "start = time.perf_counter()\n",
        "fib(10)\n",
        "end = time.perf_counter()\n",
        "print(f'Время выполнения функции : {end - start:.6f}')"
      ],
      "metadata": {
        "colab": {
          "base_uri": "https://localhost:8080/"
        },
        "id": "xjvESPHVHCZ8",
        "outputId": "8fa6a322-1036-448b-84d7-0760a6099830"
      },
      "execution_count": 123,
      "outputs": [
        {
          "output_type": "stream",
          "name": "stdout",
          "text": [
            "Время выполнения функции : 0.000166\n"
          ]
        }
      ]
    },
    {
      "cell_type": "code",
      "source": [
        "@memo\n",
        "def fib(n):\n",
        "  if n < 2:\n",
        "    return n\n",
        "  return fib(n-2) + fib(n-1)\n",
        "\n",
        "start = time.perf_counter()\n",
        "fib(10)\n",
        "end = time.perf_counter()\n",
        "print(f'Время выполнения функции : {end - start:.6f}')"
      ],
      "metadata": {
        "id": "W9B3e-t9iTUj",
        "colab": {
          "base_uri": "https://localhost:8080/"
        },
        "outputId": "3935807c-b486-4a18-ca16-ecefff1676e5"
      },
      "execution_count": 129,
      "outputs": [
        {
          "output_type": "stream",
          "name": "stdout",
          "text": [
            "Время выполнения функции : 0.000115\n"
          ]
        }
      ]
    },
    {
      "cell_type": "code",
      "source": [],
      "metadata": {
        "id": "70AZ_NIXJWpK"
      },
      "execution_count": 128,
      "outputs": []
    }
  ]
}